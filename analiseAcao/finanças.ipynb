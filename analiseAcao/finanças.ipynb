{
 "cells": [
  {
   "cell_type": "code",
   "execution_count": 24,
   "metadata": {},
   "outputs": [
    {
     "ename": "ModuleNotFoundError",
     "evalue": "No module named 'pandas_datareader'",
     "output_type": "error",
     "traceback": [
      "\u001b[1;31m---------------------------------------------------------------------------\u001b[0m",
      "\u001b[1;31mModuleNotFoundError\u001b[0m                       Traceback (most recent call last)",
      "Cell \u001b[1;32mIn[24], line 5\u001b[0m\n\u001b[0;32m      3\u001b[0m \u001b[39mimport\u001b[39;00m \u001b[39mnumpy\u001b[39;00m \u001b[39mas\u001b[39;00m \u001b[39mnp\u001b[39;00m\n\u001b[0;32m      4\u001b[0m \u001b[39mimport\u001b[39;00m \u001b[39mmatplotlib\u001b[39;00m\u001b[39m.\u001b[39;00m\u001b[39mpyplot\u001b[39;00m \u001b[39mas\u001b[39;00m \u001b[39mplt\u001b[39;00m\n\u001b[1;32m----> 5\u001b[0m \u001b[39mimport\u001b[39;00m \u001b[39mpandas_datareader\u001b[39;00m\u001b[39m.\u001b[39;00m\u001b[39mdata\u001b[39;00m \u001b[39mas\u001b[39;00m \u001b[39mweb\u001b[39;00m\n",
      "\u001b[1;31mModuleNotFoundError\u001b[0m: No module named 'pandas_datareader'"
     ]
    }
   ],
   "source": [
    "import pandas as pd\n",
    "import yfinance as yf\n",
    "import numpy as np\n",
    "import matplotlib.pyplot as plt\n",
    "\n"
   ]
  },
  {
   "cell_type": "code",
   "execution_count": 22,
   "metadata": {},
   "outputs": [
    {
     "name": "stdout",
     "output_type": "stream",
     "text": [
      "[*********************100%***********************]  4 of 4 completed\n"
     ]
    }
   ],
   "source": [
    "dados_bancarios = yf.download(['ITSA4.SA','BRAP3.SA', 'BRIV4.SA', '^BVSP'],start='2022-01-01', end='2023-01-01' )['Adj Close'] \n",
    "#adj close"
   ]
  },
  {
   "cell_type": "code",
   "execution_count": 23,
   "metadata": {},
   "outputs": [
    {
     "data": {
      "text/html": [
       "<div>\n",
       "<style scoped>\n",
       "    .dataframe tbody tr th:only-of-type {\n",
       "        vertical-align: middle;\n",
       "    }\n",
       "\n",
       "    .dataframe tbody tr th {\n",
       "        vertical-align: top;\n",
       "    }\n",
       "\n",
       "    .dataframe thead th {\n",
       "        text-align: right;\n",
       "    }\n",
       "</style>\n",
       "<table border=\"1\" class=\"dataframe\">\n",
       "  <thead>\n",
       "    <tr style=\"text-align: right;\">\n",
       "      <th></th>\n",
       "      <th>BRAP3.SA</th>\n",
       "      <th>BRIV4.SA</th>\n",
       "      <th>ITSA4.SA</th>\n",
       "      <th>^BVSP</th>\n",
       "    </tr>\n",
       "    <tr>\n",
       "      <th>Date</th>\n",
       "      <th></th>\n",
       "      <th></th>\n",
       "      <th></th>\n",
       "      <th></th>\n",
       "    </tr>\n",
       "  </thead>\n",
       "  <tbody>\n",
       "    <tr>\n",
       "      <th>2022-01-03</th>\n",
       "      <td>19.247200</td>\n",
       "      <td>6.997087</td>\n",
       "      <td>7.635641</td>\n",
       "      <td>103922.0</td>\n",
       "    </tr>\n",
       "    <tr>\n",
       "      <th>2022-01-04</th>\n",
       "      <td>19.291548</td>\n",
       "      <td>6.978722</td>\n",
       "      <td>7.694898</td>\n",
       "      <td>103514.0</td>\n",
       "    </tr>\n",
       "    <tr>\n",
       "      <th>2022-01-05</th>\n",
       "      <td>19.477810</td>\n",
       "      <td>6.978722</td>\n",
       "      <td>7.610246</td>\n",
       "      <td>101006.0</td>\n",
       "    </tr>\n",
       "    <tr>\n",
       "      <th>2022-01-06</th>\n",
       "      <td>20.009991</td>\n",
       "      <td>6.997087</td>\n",
       "      <td>7.677968</td>\n",
       "      <td>101561.0</td>\n",
       "    </tr>\n",
       "    <tr>\n",
       "      <th>2022-01-07</th>\n",
       "      <td>21.074352</td>\n",
       "      <td>7.336841</td>\n",
       "      <td>7.771085</td>\n",
       "      <td>102719.0</td>\n",
       "    </tr>\n",
       "    <tr>\n",
       "      <th>...</th>\n",
       "      <td>...</td>\n",
       "      <td>...</td>\n",
       "      <td>...</td>\n",
       "      <td>...</td>\n",
       "    </tr>\n",
       "    <tr>\n",
       "      <th>2022-12-23</th>\n",
       "      <td>25.963707</td>\n",
       "      <td>9.150000</td>\n",
       "      <td>8.580000</td>\n",
       "      <td>109698.0</td>\n",
       "    </tr>\n",
       "    <tr>\n",
       "      <th>2022-12-26</th>\n",
       "      <td>25.794724</td>\n",
       "      <td>9.380000</td>\n",
       "      <td>8.470000</td>\n",
       "      <td>108738.0</td>\n",
       "    </tr>\n",
       "    <tr>\n",
       "      <th>2022-12-27</th>\n",
       "      <td>26.160000</td>\n",
       "      <td>9.030000</td>\n",
       "      <td>8.380000</td>\n",
       "      <td>108347.0</td>\n",
       "    </tr>\n",
       "    <tr>\n",
       "      <th>2022-12-28</th>\n",
       "      <td>26.680000</td>\n",
       "      <td>9.080000</td>\n",
       "      <td>8.550000</td>\n",
       "      <td>110237.0</td>\n",
       "    </tr>\n",
       "    <tr>\n",
       "      <th>2022-12-29</th>\n",
       "      <td>25.570000</td>\n",
       "      <td>9.290000</td>\n",
       "      <td>8.510000</td>\n",
       "      <td>110031.0</td>\n",
       "    </tr>\n",
       "  </tbody>\n",
       "</table>\n",
       "<p>250 rows × 4 columns</p>\n",
       "</div>"
      ],
      "text/plain": [
       "             BRAP3.SA  BRIV4.SA  ITSA4.SA     ^BVSP\n",
       "Date                                               \n",
       "2022-01-03  19.247200  6.997087  7.635641  103922.0\n",
       "2022-01-04  19.291548  6.978722  7.694898  103514.0\n",
       "2022-01-05  19.477810  6.978722  7.610246  101006.0\n",
       "2022-01-06  20.009991  6.997087  7.677968  101561.0\n",
       "2022-01-07  21.074352  7.336841  7.771085  102719.0\n",
       "...               ...       ...       ...       ...\n",
       "2022-12-23  25.963707  9.150000  8.580000  109698.0\n",
       "2022-12-26  25.794724  9.380000  8.470000  108738.0\n",
       "2022-12-27  26.160000  9.030000  8.380000  108347.0\n",
       "2022-12-28  26.680000  9.080000  8.550000  110237.0\n",
       "2022-12-29  25.570000  9.290000  8.510000  110031.0\n",
       "\n",
       "[250 rows x 4 columns]"
      ]
     },
     "metadata": {},
     "output_type": "display_data"
    }
   ],
   "source": [
    "display(dados_bancarios)"
   ]
  },
  {
   "cell_type": "code",
   "execution_count": null,
   "metadata": {},
   "outputs": [],
   "source": [
    "yf.pdr_override()\n"
   ]
  }
 ],
 "metadata": {
  "kernelspec": {
   "display_name": "Python 3",
   "language": "python",
   "name": "python3"
  },
  "language_info": {
   "codemirror_mode": {
    "name": "ipython",
    "version": 3
   },
   "file_extension": ".py",
   "mimetype": "text/x-python",
   "name": "python",
   "nbconvert_exporter": "python",
   "pygments_lexer": "ipython3",
   "version": "3.10.6"
  },
  "orig_nbformat": 4,
  "vscode": {
   "interpreter": {
    "hash": "369f2c481f4da34e4445cda3fffd2e751bd1c4d706f27375911949ba6bb62e1c"
   }
  }
 },
 "nbformat": 4,
 "nbformat_minor": 2
}
