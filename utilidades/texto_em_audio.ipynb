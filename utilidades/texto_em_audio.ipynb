{
 "cells": [
  {
   "cell_type": "code",
   "execution_count": 20,
   "metadata": {},
   "outputs": [
    {
     "ename": "ModuleNotFoundError",
     "evalue": "No module named 'pyttsx3'",
     "output_type": "error",
     "traceback": [
      "\u001b[1;31m---------------------------------------------------------------------------\u001b[0m",
      "\u001b[1;31mModuleNotFoundError\u001b[0m                       Traceback (most recent call last)",
      "Cell \u001b[1;32mIn[20], line 1\u001b[0m\n\u001b[1;32m----> 1\u001b[0m \u001b[39mimport\u001b[39;00m \u001b[39mpyttsx3\u001b[39;00m\n\u001b[0;32m      3\u001b[0m engine \u001b[39m=\u001b[39m pyttsx3\u001b[39m.\u001b[39minit()\n\u001b[0;32m      4\u001b[0m voices \u001b[39m=\u001b[39m engine\u001b[39m.\u001b[39mgetProperty(\u001b[39m'\u001b[39m\u001b[39mvoices\u001b[39m\u001b[39m'\u001b[39m)\n",
      "\u001b[1;31mModuleNotFoundError\u001b[0m: No module named 'pyttsx3'"
     ]
    }
   ],
   "source": []
  },
  {
   "cell_type": "code",
   "execution_count": 27,
   "metadata": {},
   "outputs": [],
   "source": [
    "from gtts import gTTS\n",
    "from playsound import playsound\n",
    "\n",
    "audio = 'mascara.mp3'\n",
    "lang = 'pt-br'\n",
    "\n",
    "text = gTTS(\n",
    "    text='''tutorial sobre como fazer uma máscara de tecido caseira:\n",
    "\n",
    "Materiais necessários:\n",
    "\n",
    "Tecido de algodão (de preferência de alta qualidade, como o tricoline)\n",
    "Elástico de 0,5cm de largura\n",
    "Tesoura\n",
    "Agulha e linha\n",
    "Régua ou fita métrica\n",
    "Ferro de passar\n",
    "Passo a passo:\n",
    "\n",
    "Comece cortando dois retângulos de tecido de algodão com 20cm x 15cm cada. Estes serão os lados da máscara.\n",
    "Corte dois pedaços de elástico com 17cm cada. Estes serão as tiras que vão segurar a máscara no seu rosto.\n",
    "Coloque os retângulos de tecido juntos com as faces do avesso um do outro. Costure as bordas laterais com uma margem de 1cm de costura. Não costure as bordas superiores e inferiores.\n",
    "Vire a máscara do avesso para que as faces do tecido fiquem para fora. Passe um ferro de passar nas costuras laterais para deixá-las bem alinhadas.\n",
    "Dobre a borda superior do tecido em cerca de 0,5cm e passe o ferro para marcar a dobra. Repita este processo na borda inferior.\n",
    "Insira o elástico no tecido dobrando cerca de 1cm para dentro e costure as pontas do elástico nas bordas laterais da máscara. Repita o processo no outro lado.\n",
    "Certifique-se de que as tiras de elástico não estão torcidas e ajuste a máscara ao seu rosto. Ajuste as tiras de elástico para que a máscara fique firme, mas confortável.\n",
    "Finalmente, passe o ferro novamente na máscara para deixá-la bem alinhada e pronta para uso.\n",
    "Pronto! Agora você tem uma máscara de tecido caseira para ajudar a proteger você e as outras pessoas ao seu redor. Lembre-se de lavá-la regularmente e seguir as diretrizes de segurança do governo\n",
    "local.\n",
    " \n",
    " ''',    lang=lang\n",
    ")\n",
    "\n",
    "text.save(audio)\n",
    "playsound(audio)"
   ]
  }
 ],
 "metadata": {
  "kernelspec": {
   "display_name": "Python 3",
   "language": "python",
   "name": "python3"
  },
  "language_info": {
   "codemirror_mode": {
    "name": "ipython",
    "version": 3
   },
   "file_extension": ".py",
   "mimetype": "text/x-python",
   "name": "python",
   "nbconvert_exporter": "python",
   "pygments_lexer": "ipython3",
   "version": "3.10.6"
  },
  "orig_nbformat": 4
 },
 "nbformat": 4,
 "nbformat_minor": 2
}
