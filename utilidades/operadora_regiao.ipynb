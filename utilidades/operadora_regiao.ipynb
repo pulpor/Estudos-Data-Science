{
 "cells": [
  {
   "cell_type": "code",
   "execution_count": 6,
   "metadata": {},
   "outputs": [],
   "source": [
    "import phonenumbers\n",
    "from phonenumbers import geocoder, carrier"
   ]
  },
  {
   "cell_type": "code",
   "execution_count": 39,
   "metadata": {},
   "outputs": [
    {
     "name": "stdout",
     "output_type": "stream",
     "text": [
      "A operadora é: TIM\n",
      "O estado é: Paraná\n"
     ]
    }
   ],
   "source": [
    "#digita o numero com o codigo do pais e o ddd\n",
    "phoneNumber = phonenumbers.parse(\"+55 43 99967-9631\")\n",
    "\n",
    "#captura a operadora\n",
    "Carrier = carrier.name_for_number(phoneNumber, 'pt-br')\n",
    "\n",
    "#captura a região\n",
    "regiao = geocoder.description_for_number(phoneNumber, 'pt-br')\n",
    "\n",
    "\n",
    "print(\"A operadora é: \" + Carrier)\n",
    "print(\"O estado é: \" + regiao)"
   ]
  }
 ],
 "metadata": {
  "kernelspec": {
   "display_name": "Python 3",
   "language": "python",
   "name": "python3"
  },
  "language_info": {
   "codemirror_mode": {
    "name": "ipython",
    "version": 3
   },
   "file_extension": ".py",
   "mimetype": "text/x-python",
   "name": "python",
   "nbconvert_exporter": "python",
   "pygments_lexer": "ipython3",
   "version": "3.10.6"
  },
  "orig_nbformat": 4
 },
 "nbformat": 4,
 "nbformat_minor": 2
}
